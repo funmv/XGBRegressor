{
 "cells": [
  {
   "cell_type": "markdown",
   "id": "71544654-fa52-42f3-9546-743b3ee58261",
   "metadata": {},
   "source": [
    "# XGBBoost Regressor"
   ]
  },
  {
   "cell_type": "code",
   "execution_count": 4,
   "id": "7aca3ef8-2b2e-4767-8b55-b1b5e82181e8",
   "metadata": {},
   "outputs": [],
   "source": [
    "# !pip install xgboost\n",
    "# [venv] Anaconda->py310"
   ]
  },
  {
   "cell_type": "code",
   "execution_count": 9,
   "id": "6e870575-f102-4916-9f3c-a94b203d638d",
   "metadata": {},
   "outputs": [],
   "source": [
    "import os\n",
    "import numpy as np\n",
    "\n",
    "from scipy.spatial.distance import euclidean\n",
    "from scipy.signal import correlate\n",
    "#from fastdtw import fastdtw\n",
    "\n",
    "from sklearn.model_selection import train_test_split\n",
    "from sklearn.metrics import mean_squared_error, r2_score\n",
    "from xgboost import XGBRegressor"
   ]
  },
  {
   "cell_type": "code",
   "execution_count": 6,
   "id": "9688fa5a-9e51-4f38-bf6f-49cc9218519d",
   "metadata": {},
   "outputs": [],
   "source": [
    "%matplotlib inline\n",
    "import matplotlib.pyplot as plt\n",
    "import pdb\n",
    "\n",
    "\n",
    "from matplotlib import font_manager, rc\n",
    "font_name = font_manager.FontProperties(fname=\"c:/Windows/Fonts/malgun.ttf\").get_name()\n",
    "rc('font', family=font_name)\n",
    "plt.rcParams['axes.unicode_minus'] = False"
   ]
  },
  {
   "cell_type": "code",
   "execution_count": 7,
   "id": "0a99d268-110a-475f-954b-f4bf349486b8",
   "metadata": {},
   "outputs": [],
   "source": [
    "import pandas as pd\n",
    "from pandas import concat\n",
    "from pandas import DataFrame\n",
    "import numpy as np\n",
    "import scipy.ndimage as ndi\n",
    "import random"
   ]
  },
  {
   "cell_type": "markdown",
   "id": "0219b2b7-fd22-4d66-8849-b6066d5107c7",
   "metadata": {},
   "source": [
    "### Read data"
   ]
  },
  {
   "cell_type": "code",
   "execution_count": 20,
   "id": "775219e1-7230-42b9-8658-9d148b348ae8",
   "metadata": {},
   "outputs": [
    {
     "name": "stdout",
     "output_type": "stream",
     "text": [
      "경로: F:/nox/2024/nox_05sec, 데이터추출 파일명: extract_tempmatch_data.ipynb, 만든날짜: 20241108\n",
      "전체 keys: ['train_x', 'train_y', 'feature_index', 'ipynb', 'path', 'Date', 'tic_position', 'feature_name']\n",
      "학습샘플 크기-> 입력: (111, 9), 출력: (111, 2)\n",
      "특징값의 인덱스: [7, 19, 3, 16]\n",
      "특징값의 이름: ['metal temp', 'scr후단온도', '외기온도', 'MW', 'index'] x 2\n",
      "특징값 추출 위치: [60, 90]->이 위치에서 4개의 특징을 뽑아서 8개(입력 9개특징중 마지막 1개는 index값)\n"
     ]
    }
   ],
   "source": [
    "# Read data\n",
    "fname = os.path.join('train_data','fuel_predict_data2.npy')\n",
    "data_dict = np.load(fname, allow_pickle=True).item()\n",
    "train_ox = data_dict['train_x']\n",
    "train_oy = data_dict['train_y']\n",
    "\n",
    "print(f\"경로: {data_dict['path']}, 데이터추출 파일명: {data_dict['ipynb']}, 만든날짜: {data_dict['Date']}\", )\n",
    "print(f\"전체 keys: {[vv for vv in data_dict.keys()]}\")\n",
    "print(f\"학습샘플 크기-> 입력: {data_dict['train_x'].shape}, 출력: {data_dict['train_y'].shape}\")\n",
    "print(f\"특징값의 인덱스: {data_dict['feature_index']}\")\n",
    "print(f\"특징값의 이름: {data_dict['feature_name']} x 2\")\n",
    "print(f\"특징값 추출 위치: {data_dict['tic_position']}->이 위치에서 4개의 특징을 뽑아서 8개(입력 9개특징중 마지막 1개는 index값)\")"
   ]
  },
  {
   "cell_type": "code",
   "execution_count": 24,
   "id": "de6bf6ff-2773-47c6-9f01-77a361a831f9",
   "metadata": {},
   "outputs": [
    {
     "name": "stdout",
     "output_type": "stream",
     "text": [
      "(111, 9) (111, 2)\n",
      "2nd Rise 위치 예측을 위한 입출력-> 학습: (99, 9), (99,), 검증: (12, 9), (12,)\n"
     ]
    }
   ],
   "source": [
    "train_x, train_y = train_ox.copy(), train_oy.copy()\n",
    "print(train_x.shape, train_y.shape)\n",
    "# train_x = np.delete(train_x, [75,91], axis=0)  #outlier\n",
    "# train_y = np.delete(train_y, [75,91], axis=0)\n",
    "\n",
    "# rising tic이 두군데가 있고, 각각 분리해서 학습하고 테스트\n",
    "#X_train, X_test, y_train, y_test = train_test_split(train_x, train_y[:,0], test_size=0.2, random_state=42)  #test_size=0.2,depth=3 best\n",
    "X_train, X_test, y_train, y_test = train_test_split(train_x, train_y[:,1], test_size=0.1, random_state=42)  #depth=4,test_size=0.1\n",
    "print(f\"2nd Rise 위치 예측을 위한 입출력-> 학습: {X_train.shape}, {y_train.shape}, 검증: {X_test.shape}, {y_test.shape}\")"
   ]
  },
  {
   "cell_type": "markdown",
   "id": "6bd9232d-1d0a-415e-a082-a6201e631c7d",
   "metadata": {},
   "source": [
    "## XGBRegressor Class"
   ]
  },
  {
   "cell_type": "code",
   "execution_count": 27,
   "id": "25145a69-c995-4744-939b-11cbf05b80b6",
   "metadata": {},
   "outputs": [
    {
     "name": "stdout",
     "output_type": "stream",
     "text": [
      "Mean Squared Error: 1002.5321655273438\n",
      "R-squared: -1.4120268821716309\n",
      "True Rise:221.0, Pred Rise: 258.7, Diff: 3.1분\n",
      "True Rise:186.0, Pred Rise: 242.6, Diff: 4.7분\n",
      "True Rise:227.0, Pred Rise: 233.6, Diff: 0.5분\n",
      "True Rise:184.0, Pred Rise: 249.0, Diff: 5.4분\n",
      "True Rise:220.0, Pred Rise: 239.3, Diff: 1.6분\n",
      "True Rise:233.0, Pred Rise: 235.0, Diff: 0.2분\n",
      "True Rise:219.0, Pred Rise: 232.2, Diff: 1.1분\n",
      "True Rise:205.0, Pred Rise: 234.8, Diff: 2.5분\n",
      "True Rise:219.0, Pred Rise: 246.9, Diff: 2.3분\n",
      "True Rise:241.0, Pred Rise: 241.5, Diff: 0.0분\n",
      "True Rise:260.0, Pred Rise: 229.7, Diff: 2.5분\n",
      "True Rise:227.0, Pred Rise: 227.4, Diff: 0.0분\n",
      "Mean Squared Error: 24895.931640625\n",
      "R-squared: 0.8855707049369812\n",
      "True Rise:1844.0, Pred Rise: 1796.7, Diff: 3.9분\n",
      "True Rise:2246.0, Pred Rise: 2681.0, Diff: 36.2분\n",
      "True Rise:884.0, Pred Rise: 890.8, Diff: 0.6분\n",
      "True Rise:883.0, Pred Rise: 872.6, Diff: 0.9분\n",
      "True Rise:709.0, Pred Rise: 791.2, Diff: 6.8분\n",
      "True Rise:910.0, Pred Rise: 906.9, Diff: 0.3분\n",
      "True Rise:758.0, Pred Rise: 921.1, Diff: 13.6분\n",
      "True Rise:856.0, Pred Rise: 831.9, Diff: 2.0분\n",
      "True Rise:1511.0, Pred Rise: 1344.8, Diff: 13.9분\n",
      "True Rise:910.0, Pred Rise: 981.1, Diff: 5.9분\n",
      "True Rise:964.0, Pred Rise: 763.1, Diff: 16.7분\n",
      "True Rise:850.0, Pred Rise: 837.0, Diff: 1.1분\n"
     ]
    },
    {
     "data": {
      "text/plain": [
       "((12,), (12,))"
      ]
     },
     "execution_count": 27,
     "metadata": {},
     "output_type": "execute_result"
    }
   ],
   "source": [
    "class FuelRising:\n",
    "    def __init__(self, train_x, train_y, ratio=0.2):\n",
    "        self.X_train, self.X_test, self.y_train, self.y_test = train_test_split(train_x[:,:-1], train_y, test_size=ratio, random_state=42)  #depth=4,test_size=0.1\n",
    "\n",
    "        # Training...\n",
    "        self.model1 = XGBRegressor(objective='reg:squarederror', n_estimators=100, learning_rate=0.1, max_depth=3, random_state=42)\n",
    "        self.model2 = XGBRegressor(objective='reg:squarederror', n_estimators=100, learning_rate=0.1, max_depth=4, random_state=42)\n",
    "        self.model1.fit(self.X_train, self.y_train[:,0])\n",
    "        self.model2.fit(self.X_train, self.y_train[:,1])\n",
    "        self.model1.save_model('train_data/xgbreg_1.json')\n",
    "        self.model2.save_model('train_data/xgbreg_2.json')\n",
    "        \n",
    "    def predict(self, X_test):\n",
    "        return self.model1.predict(X_test), self.model2.predict(X_test)\n",
    "\n",
    "    def evaluate(self, ground, pred):\n",
    "        mse = mean_squared_error(ground, pred)  \n",
    "        r2 = r2_score(ground, pred)  # 데이터변동성 38.1%/89.8%설명\n",
    "        print(\"Mean Squared Error:\", mse)\n",
    "        print(\"R-squared:\", r2)       \n",
    "        \n",
    "        med_value = []\n",
    "        for a, b in zip(ground, pred):\n",
    "            med_value.append(np.abs(a-b))\n",
    "            print(f\"True Rise:{a:.1f}, Pred Rise: {b:.1f}, Diff: {np.abs(a-b)/12.0:.1f}분\")\n",
    "        \n",
    "        return mse, r2\n",
    "    \n",
    "    \n",
    "fuel_rising = FuelRising(train_x, train_y, ratio=0.1)\n",
    "y_pred1, y_pred2 = fuel_rising.predict(fuel_rising.X_test)\n",
    "\n",
    "mse, r2 = fuel_rising.evaluate(fuel_rising.y_test[:,0], y_pred1)\n",
    "mse, r2 = fuel_rising.evaluate(fuel_rising.y_test[:,1], y_pred2)\n",
    "y_pred1.shape, y_pred2.shape"
   ]
  },
  {
   "cell_type": "code",
   "execution_count": null,
   "id": "1997cca2-6061-4ce7-9b91-6d804af7d1ca",
   "metadata": {},
   "outputs": [],
   "source": []
  }
 ],
 "metadata": {
  "kernelspec": {
   "display_name": "Python 3 (ipykernel)",
   "language": "python",
   "name": "python3"
  },
  "language_info": {
   "codemirror_mode": {
    "name": "ipython",
    "version": 3
   },
   "file_extension": ".py",
   "mimetype": "text/x-python",
   "name": "python",
   "nbconvert_exporter": "python",
   "pygments_lexer": "ipython3",
   "version": "3.10.16"
  }
 },
 "nbformat": 4,
 "nbformat_minor": 5
}
